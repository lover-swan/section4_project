{
  "nbformat": 4,
  "nbformat_minor": 0,
  "metadata": {
    "colab": {
      "provenance": []
    },
    "kernelspec": {
      "name": "python3",
      "display_name": "Python 3"
    },
    "language_info": {
      "name": "python"
    },
    "gpuClass": "standard"
  },
  "cells": [
    {
      "cell_type": "code",
      "source": [
        "import pandas as pd"
      ],
      "metadata": {
        "id": "QlB-QUDoHwE6"
      },
      "execution_count": null,
      "outputs": []
    },
    {
      "cell_type": "code",
      "source": [
        "import json"
      ],
      "metadata": {
        "id": "eJ3nPARNS_5O"
      },
      "execution_count": null,
      "outputs": []
    },
    {
      "cell_type": "code",
      "source": [
        "data = []\n",
        "for line in open('/content/drive/MyDrive/Home_and_Kitchen_5.json', 'r'):\n",
        "    data.append(json.loads(line))"
      ],
      "metadata": {
        "id": "Hf3qIHLQTLei"
      },
      "execution_count": null,
      "outputs": []
    },
    {
      "cell_type": "code",
      "source": [
        "len(data)"
      ],
      "metadata": {
        "colab": {
          "base_uri": "https://localhost:8080/"
        },
        "id": "_sPF8GreT_BG",
        "outputId": "9181e759-162a-45b7-f88b-808e309bf4bb"
      },
      "execution_count": null,
      "outputs": [
        {
          "output_type": "execute_result",
          "data": {
            "text/plain": [
              "551682"
            ]
          },
          "metadata": {},
          "execution_count": 4
        }
      ]
    },
    {
      "cell_type": "code",
      "source": [
        "df = pd.DataFrame(data)"
      ],
      "metadata": {
        "id": "XxyFWHwIH3kx"
      },
      "execution_count": null,
      "outputs": []
    },
    {
      "cell_type": "code",
      "source": [
        "df = df[{'asin','reviewText','overall','summary'}]"
      ],
      "metadata": {
        "id": "4eufbGvIUyu6"
      },
      "execution_count": null,
      "outputs": []
    },
    {
      "cell_type": "code",
      "source": [
        "df"
      ],
      "metadata": {
        "colab": {
          "base_uri": "https://localhost:8080/",
          "height": 424
        },
        "id": "bJmRaXP6Wk34",
        "outputId": "a3d5a883-ea11-43f5-9190-d077656b4d0d"
      },
      "execution_count": null,
      "outputs": [
        {
          "output_type": "execute_result",
          "data": {
            "text/plain": [
              "              asin                                         reviewText  \\\n",
              "0       0615391206  My daughter wanted this book and the price on ...   \n",
              "1       0615391206  I bought this zoku quick pop for my daughterr ...   \n",
              "2       0615391206  There is no shortage of pop recipes available ...   \n",
              "3       0615391206  This book is a must have if you get a Zoku (wh...   \n",
              "4       0615391206  This cookbook is great.  I have really enjoyed...   \n",
              "...            ...                                                ...   \n",
              "551677  B00LBFUU12  These ice pop molds are awesome! Bright kid-ha...   \n",
              "551678  B00LBFUU12  great popsicle molds - very nice quality - and...   \n",
              "551679  B00LBFUU12  My kids and I are loving these - putting our c...   \n",
              "551680  B00LBFUU12  I love these ice pop makers. First off, I love...   \n",
              "551681  B00LBFUU12  My kids love these ice pop makers!!!  Since we...   \n",
              "\n",
              "        overall                                            summary  \n",
              "0           5.0                                         Best Price  \n",
              "1           5.0                                               zoku  \n",
              "2           4.0  Excels at Sweet Dessert Pops, but Falls Short ...  \n",
              "3           5.0                                    Creative Combos  \n",
              "4           4.0            A must own if you own the Zoku maker...  \n",
              "...         ...                                                ...  \n",
              "551677      5.0                           Summer fun for everyone!  \n",
              "551678      5.0                                         Five Stars  \n",
              "551679      5.0  ... these - putting our creativity to the test...  \n",
              "551680      5.0                                          love them  \n",
              "551681      5.0  Great popsicle molds!!!  Perfect for making su...  \n",
              "\n",
              "[551682 rows x 4 columns]"
            ],
            "text/html": [
              "\n",
              "  <div id=\"df-13be54de-207d-46b4-9b06-7ba212b7616d\">\n",
              "    <div class=\"colab-df-container\">\n",
              "      <div>\n",
              "<style scoped>\n",
              "    .dataframe tbody tr th:only-of-type {\n",
              "        vertical-align: middle;\n",
              "    }\n",
              "\n",
              "    .dataframe tbody tr th {\n",
              "        vertical-align: top;\n",
              "    }\n",
              "\n",
              "    .dataframe thead th {\n",
              "        text-align: right;\n",
              "    }\n",
              "</style>\n",
              "<table border=\"1\" class=\"dataframe\">\n",
              "  <thead>\n",
              "    <tr style=\"text-align: right;\">\n",
              "      <th></th>\n",
              "      <th>asin</th>\n",
              "      <th>reviewText</th>\n",
              "      <th>overall</th>\n",
              "      <th>summary</th>\n",
              "    </tr>\n",
              "  </thead>\n",
              "  <tbody>\n",
              "    <tr>\n",
              "      <th>0</th>\n",
              "      <td>0615391206</td>\n",
              "      <td>My daughter wanted this book and the price on ...</td>\n",
              "      <td>5.0</td>\n",
              "      <td>Best Price</td>\n",
              "    </tr>\n",
              "    <tr>\n",
              "      <th>1</th>\n",
              "      <td>0615391206</td>\n",
              "      <td>I bought this zoku quick pop for my daughterr ...</td>\n",
              "      <td>5.0</td>\n",
              "      <td>zoku</td>\n",
              "    </tr>\n",
              "    <tr>\n",
              "      <th>2</th>\n",
              "      <td>0615391206</td>\n",
              "      <td>There is no shortage of pop recipes available ...</td>\n",
              "      <td>4.0</td>\n",
              "      <td>Excels at Sweet Dessert Pops, but Falls Short ...</td>\n",
              "    </tr>\n",
              "    <tr>\n",
              "      <th>3</th>\n",
              "      <td>0615391206</td>\n",
              "      <td>This book is a must have if you get a Zoku (wh...</td>\n",
              "      <td>5.0</td>\n",
              "      <td>Creative Combos</td>\n",
              "    </tr>\n",
              "    <tr>\n",
              "      <th>4</th>\n",
              "      <td>0615391206</td>\n",
              "      <td>This cookbook is great.  I have really enjoyed...</td>\n",
              "      <td>4.0</td>\n",
              "      <td>A must own if you own the Zoku maker...</td>\n",
              "    </tr>\n",
              "    <tr>\n",
              "      <th>...</th>\n",
              "      <td>...</td>\n",
              "      <td>...</td>\n",
              "      <td>...</td>\n",
              "      <td>...</td>\n",
              "    </tr>\n",
              "    <tr>\n",
              "      <th>551677</th>\n",
              "      <td>B00LBFUU12</td>\n",
              "      <td>These ice pop molds are awesome! Bright kid-ha...</td>\n",
              "      <td>5.0</td>\n",
              "      <td>Summer fun for everyone!</td>\n",
              "    </tr>\n",
              "    <tr>\n",
              "      <th>551678</th>\n",
              "      <td>B00LBFUU12</td>\n",
              "      <td>great popsicle molds - very nice quality - and...</td>\n",
              "      <td>5.0</td>\n",
              "      <td>Five Stars</td>\n",
              "    </tr>\n",
              "    <tr>\n",
              "      <th>551679</th>\n",
              "      <td>B00LBFUU12</td>\n",
              "      <td>My kids and I are loving these - putting our c...</td>\n",
              "      <td>5.0</td>\n",
              "      <td>... these - putting our creativity to the test...</td>\n",
              "    </tr>\n",
              "    <tr>\n",
              "      <th>551680</th>\n",
              "      <td>B00LBFUU12</td>\n",
              "      <td>I love these ice pop makers. First off, I love...</td>\n",
              "      <td>5.0</td>\n",
              "      <td>love them</td>\n",
              "    </tr>\n",
              "    <tr>\n",
              "      <th>551681</th>\n",
              "      <td>B00LBFUU12</td>\n",
              "      <td>My kids love these ice pop makers!!!  Since we...</td>\n",
              "      <td>5.0</td>\n",
              "      <td>Great popsicle molds!!!  Perfect for making su...</td>\n",
              "    </tr>\n",
              "  </tbody>\n",
              "</table>\n",
              "<p>551682 rows × 4 columns</p>\n",
              "</div>\n",
              "      <button class=\"colab-df-convert\" onclick=\"convertToInteractive('df-13be54de-207d-46b4-9b06-7ba212b7616d')\"\n",
              "              title=\"Convert this dataframe to an interactive table.\"\n",
              "              style=\"display:none;\">\n",
              "        \n",
              "  <svg xmlns=\"http://www.w3.org/2000/svg\" height=\"24px\"viewBox=\"0 0 24 24\"\n",
              "       width=\"24px\">\n",
              "    <path d=\"M0 0h24v24H0V0z\" fill=\"none\"/>\n",
              "    <path d=\"M18.56 5.44l.94 2.06.94-2.06 2.06-.94-2.06-.94-.94-2.06-.94 2.06-2.06.94zm-11 1L8.5 8.5l.94-2.06 2.06-.94-2.06-.94L8.5 2.5l-.94 2.06-2.06.94zm10 10l.94 2.06.94-2.06 2.06-.94-2.06-.94-.94-2.06-.94 2.06-2.06.94z\"/><path d=\"M17.41 7.96l-1.37-1.37c-.4-.4-.92-.59-1.43-.59-.52 0-1.04.2-1.43.59L10.3 9.45l-7.72 7.72c-.78.78-.78 2.05 0 2.83L4 21.41c.39.39.9.59 1.41.59.51 0 1.02-.2 1.41-.59l7.78-7.78 2.81-2.81c.8-.78.8-2.07 0-2.86zM5.41 20L4 18.59l7.72-7.72 1.47 1.35L5.41 20z\"/>\n",
              "  </svg>\n",
              "      </button>\n",
              "      \n",
              "  <style>\n",
              "    .colab-df-container {\n",
              "      display:flex;\n",
              "      flex-wrap:wrap;\n",
              "      gap: 12px;\n",
              "    }\n",
              "\n",
              "    .colab-df-convert {\n",
              "      background-color: #E8F0FE;\n",
              "      border: none;\n",
              "      border-radius: 50%;\n",
              "      cursor: pointer;\n",
              "      display: none;\n",
              "      fill: #1967D2;\n",
              "      height: 32px;\n",
              "      padding: 0 0 0 0;\n",
              "      width: 32px;\n",
              "    }\n",
              "\n",
              "    .colab-df-convert:hover {\n",
              "      background-color: #E2EBFA;\n",
              "      box-shadow: 0px 1px 2px rgba(60, 64, 67, 0.3), 0px 1px 3px 1px rgba(60, 64, 67, 0.15);\n",
              "      fill: #174EA6;\n",
              "    }\n",
              "\n",
              "    [theme=dark] .colab-df-convert {\n",
              "      background-color: #3B4455;\n",
              "      fill: #D2E3FC;\n",
              "    }\n",
              "\n",
              "    [theme=dark] .colab-df-convert:hover {\n",
              "      background-color: #434B5C;\n",
              "      box-shadow: 0px 1px 3px 1px rgba(0, 0, 0, 0.15);\n",
              "      filter: drop-shadow(0px 1px 2px rgba(0, 0, 0, 0.3));\n",
              "      fill: #FFFFFF;\n",
              "    }\n",
              "  </style>\n",
              "\n",
              "      <script>\n",
              "        const buttonEl =\n",
              "          document.querySelector('#df-13be54de-207d-46b4-9b06-7ba212b7616d button.colab-df-convert');\n",
              "        buttonEl.style.display =\n",
              "          google.colab.kernel.accessAllowed ? 'block' : 'none';\n",
              "\n",
              "        async function convertToInteractive(key) {\n",
              "          const element = document.querySelector('#df-13be54de-207d-46b4-9b06-7ba212b7616d');\n",
              "          const dataTable =\n",
              "            await google.colab.kernel.invokeFunction('convertToInteractive',\n",
              "                                                     [key], {});\n",
              "          if (!dataTable) return;\n",
              "\n",
              "          const docLinkHtml = 'Like what you see? Visit the ' +\n",
              "            '<a target=\"_blank\" href=https://colab.research.google.com/notebooks/data_table.ipynb>data table notebook</a>'\n",
              "            + ' to learn more about interactive tables.';\n",
              "          element.innerHTML = '';\n",
              "          dataTable['output_type'] = 'display_data';\n",
              "          await google.colab.output.renderOutput(dataTable, element);\n",
              "          const docLink = document.createElement('div');\n",
              "          docLink.innerHTML = docLinkHtml;\n",
              "          element.appendChild(docLink);\n",
              "        }\n",
              "      </script>\n",
              "    </div>\n",
              "  </div>\n",
              "  "
            ]
          },
          "metadata": {},
          "execution_count": 7
        }
      ]
    },
    {
      "cell_type": "code",
      "source": [
        "df = df[df['overall']>4].reset_index(drop=True)\n",
        "df"
      ],
      "metadata": {
        "colab": {
          "base_uri": "https://localhost:8080/",
          "height": 424
        },
        "id": "1twRvoYl_sIx",
        "outputId": "553a4d24-69c6-4414-a490-014e4e799b50"
      },
      "execution_count": null,
      "outputs": [
        {
          "output_type": "execute_result",
          "data": {
            "text/plain": [
              "              asin                                         reviewText  \\\n",
              "0       0615391206  My daughter wanted this book and the price on ...   \n",
              "1       0615391206  I bought this zoku quick pop for my daughterr ...   \n",
              "2       0615391206  This book is a must have if you get a Zoku (wh...   \n",
              "3       0615391206  If you have a Zoku Quick Pop maker (or two.......   \n",
              "4       0615391206  This book is so beautifully illustrated and ea...   \n",
              "...            ...                                                ...   \n",
              "349691  B00LBFUU12  These ice pop molds are awesome! Bright kid-ha...   \n",
              "349692  B00LBFUU12  great popsicle molds - very nice quality - and...   \n",
              "349693  B00LBFUU12  My kids and I are loving these - putting our c...   \n",
              "349694  B00LBFUU12  I love these ice pop makers. First off, I love...   \n",
              "349695  B00LBFUU12  My kids love these ice pop makers!!!  Since we...   \n",
              "\n",
              "        overall                                            summary  \n",
              "0           5.0                                         Best Price  \n",
              "1           5.0                                               zoku  \n",
              "2           5.0                                    Creative Combos  \n",
              "3           5.0                                            Love it  \n",
              "4           5.0  Beautifully illustrated recipe and instruction...  \n",
              "...         ...                                                ...  \n",
              "349691      5.0                           Summer fun for everyone!  \n",
              "349692      5.0                                         Five Stars  \n",
              "349693      5.0  ... these - putting our creativity to the test...  \n",
              "349694      5.0                                          love them  \n",
              "349695      5.0  Great popsicle molds!!!  Perfect for making su...  \n",
              "\n",
              "[349696 rows x 4 columns]"
            ],
            "text/html": [
              "\n",
              "  <div id=\"df-ddf37b2e-6d82-4d37-99a1-f4d33fc1691d\">\n",
              "    <div class=\"colab-df-container\">\n",
              "      <div>\n",
              "<style scoped>\n",
              "    .dataframe tbody tr th:only-of-type {\n",
              "        vertical-align: middle;\n",
              "    }\n",
              "\n",
              "    .dataframe tbody tr th {\n",
              "        vertical-align: top;\n",
              "    }\n",
              "\n",
              "    .dataframe thead th {\n",
              "        text-align: right;\n",
              "    }\n",
              "</style>\n",
              "<table border=\"1\" class=\"dataframe\">\n",
              "  <thead>\n",
              "    <tr style=\"text-align: right;\">\n",
              "      <th></th>\n",
              "      <th>asin</th>\n",
              "      <th>reviewText</th>\n",
              "      <th>overall</th>\n",
              "      <th>summary</th>\n",
              "    </tr>\n",
              "  </thead>\n",
              "  <tbody>\n",
              "    <tr>\n",
              "      <th>0</th>\n",
              "      <td>0615391206</td>\n",
              "      <td>My daughter wanted this book and the price on ...</td>\n",
              "      <td>5.0</td>\n",
              "      <td>Best Price</td>\n",
              "    </tr>\n",
              "    <tr>\n",
              "      <th>1</th>\n",
              "      <td>0615391206</td>\n",
              "      <td>I bought this zoku quick pop for my daughterr ...</td>\n",
              "      <td>5.0</td>\n",
              "      <td>zoku</td>\n",
              "    </tr>\n",
              "    <tr>\n",
              "      <th>2</th>\n",
              "      <td>0615391206</td>\n",
              "      <td>This book is a must have if you get a Zoku (wh...</td>\n",
              "      <td>5.0</td>\n",
              "      <td>Creative Combos</td>\n",
              "    </tr>\n",
              "    <tr>\n",
              "      <th>3</th>\n",
              "      <td>0615391206</td>\n",
              "      <td>If you have a Zoku Quick Pop maker (or two.......</td>\n",
              "      <td>5.0</td>\n",
              "      <td>Love it</td>\n",
              "    </tr>\n",
              "    <tr>\n",
              "      <th>4</th>\n",
              "      <td>0615391206</td>\n",
              "      <td>This book is so beautifully illustrated and ea...</td>\n",
              "      <td>5.0</td>\n",
              "      <td>Beautifully illustrated recipe and instruction...</td>\n",
              "    </tr>\n",
              "    <tr>\n",
              "      <th>...</th>\n",
              "      <td>...</td>\n",
              "      <td>...</td>\n",
              "      <td>...</td>\n",
              "      <td>...</td>\n",
              "    </tr>\n",
              "    <tr>\n",
              "      <th>349691</th>\n",
              "      <td>B00LBFUU12</td>\n",
              "      <td>These ice pop molds are awesome! Bright kid-ha...</td>\n",
              "      <td>5.0</td>\n",
              "      <td>Summer fun for everyone!</td>\n",
              "    </tr>\n",
              "    <tr>\n",
              "      <th>349692</th>\n",
              "      <td>B00LBFUU12</td>\n",
              "      <td>great popsicle molds - very nice quality - and...</td>\n",
              "      <td>5.0</td>\n",
              "      <td>Five Stars</td>\n",
              "    </tr>\n",
              "    <tr>\n",
              "      <th>349693</th>\n",
              "      <td>B00LBFUU12</td>\n",
              "      <td>My kids and I are loving these - putting our c...</td>\n",
              "      <td>5.0</td>\n",
              "      <td>... these - putting our creativity to the test...</td>\n",
              "    </tr>\n",
              "    <tr>\n",
              "      <th>349694</th>\n",
              "      <td>B00LBFUU12</td>\n",
              "      <td>I love these ice pop makers. First off, I love...</td>\n",
              "      <td>5.0</td>\n",
              "      <td>love them</td>\n",
              "    </tr>\n",
              "    <tr>\n",
              "      <th>349695</th>\n",
              "      <td>B00LBFUU12</td>\n",
              "      <td>My kids love these ice pop makers!!!  Since we...</td>\n",
              "      <td>5.0</td>\n",
              "      <td>Great popsicle molds!!!  Perfect for making su...</td>\n",
              "    </tr>\n",
              "  </tbody>\n",
              "</table>\n",
              "<p>349696 rows × 4 columns</p>\n",
              "</div>\n",
              "      <button class=\"colab-df-convert\" onclick=\"convertToInteractive('df-ddf37b2e-6d82-4d37-99a1-f4d33fc1691d')\"\n",
              "              title=\"Convert this dataframe to an interactive table.\"\n",
              "              style=\"display:none;\">\n",
              "        \n",
              "  <svg xmlns=\"http://www.w3.org/2000/svg\" height=\"24px\"viewBox=\"0 0 24 24\"\n",
              "       width=\"24px\">\n",
              "    <path d=\"M0 0h24v24H0V0z\" fill=\"none\"/>\n",
              "    <path d=\"M18.56 5.44l.94 2.06.94-2.06 2.06-.94-2.06-.94-.94-2.06-.94 2.06-2.06.94zm-11 1L8.5 8.5l.94-2.06 2.06-.94-2.06-.94L8.5 2.5l-.94 2.06-2.06.94zm10 10l.94 2.06.94-2.06 2.06-.94-2.06-.94-.94-2.06-.94 2.06-2.06.94z\"/><path d=\"M17.41 7.96l-1.37-1.37c-.4-.4-.92-.59-1.43-.59-.52 0-1.04.2-1.43.59L10.3 9.45l-7.72 7.72c-.78.78-.78 2.05 0 2.83L4 21.41c.39.39.9.59 1.41.59.51 0 1.02-.2 1.41-.59l7.78-7.78 2.81-2.81c.8-.78.8-2.07 0-2.86zM5.41 20L4 18.59l7.72-7.72 1.47 1.35L5.41 20z\"/>\n",
              "  </svg>\n",
              "      </button>\n",
              "      \n",
              "  <style>\n",
              "    .colab-df-container {\n",
              "      display:flex;\n",
              "      flex-wrap:wrap;\n",
              "      gap: 12px;\n",
              "    }\n",
              "\n",
              "    .colab-df-convert {\n",
              "      background-color: #E8F0FE;\n",
              "      border: none;\n",
              "      border-radius: 50%;\n",
              "      cursor: pointer;\n",
              "      display: none;\n",
              "      fill: #1967D2;\n",
              "      height: 32px;\n",
              "      padding: 0 0 0 0;\n",
              "      width: 32px;\n",
              "    }\n",
              "\n",
              "    .colab-df-convert:hover {\n",
              "      background-color: #E2EBFA;\n",
              "      box-shadow: 0px 1px 2px rgba(60, 64, 67, 0.3), 0px 1px 3px 1px rgba(60, 64, 67, 0.15);\n",
              "      fill: #174EA6;\n",
              "    }\n",
              "\n",
              "    [theme=dark] .colab-df-convert {\n",
              "      background-color: #3B4455;\n",
              "      fill: #D2E3FC;\n",
              "    }\n",
              "\n",
              "    [theme=dark] .colab-df-convert:hover {\n",
              "      background-color: #434B5C;\n",
              "      box-shadow: 0px 1px 3px 1px rgba(0, 0, 0, 0.15);\n",
              "      filter: drop-shadow(0px 1px 2px rgba(0, 0, 0, 0.3));\n",
              "      fill: #FFFFFF;\n",
              "    }\n",
              "  </style>\n",
              "\n",
              "      <script>\n",
              "        const buttonEl =\n",
              "          document.querySelector('#df-ddf37b2e-6d82-4d37-99a1-f4d33fc1691d button.colab-df-convert');\n",
              "        buttonEl.style.display =\n",
              "          google.colab.kernel.accessAllowed ? 'block' : 'none';\n",
              "\n",
              "        async function convertToInteractive(key) {\n",
              "          const element = document.querySelector('#df-ddf37b2e-6d82-4d37-99a1-f4d33fc1691d');\n",
              "          const dataTable =\n",
              "            await google.colab.kernel.invokeFunction('convertToInteractive',\n",
              "                                                     [key], {});\n",
              "          if (!dataTable) return;\n",
              "\n",
              "          const docLinkHtml = 'Like what you see? Visit the ' +\n",
              "            '<a target=\"_blank\" href=https://colab.research.google.com/notebooks/data_table.ipynb>data table notebook</a>'\n",
              "            + ' to learn more about interactive tables.';\n",
              "          element.innerHTML = '';\n",
              "          dataTable['output_type'] = 'display_data';\n",
              "          await google.colab.output.renderOutput(dataTable, element);\n",
              "          const docLink = document.createElement('div');\n",
              "          docLink.innerHTML = docLinkHtml;\n",
              "          element.appendChild(docLink);\n",
              "        }\n",
              "      </script>\n",
              "    </div>\n",
              "  </div>\n",
              "  "
            ]
          },
          "metadata": {},
          "execution_count": 8
        }
      ]
    },
    {
      "cell_type": "code",
      "source": [
        "df.isnull().sum()"
      ],
      "metadata": {
        "colab": {
          "base_uri": "https://localhost:8080/"
        },
        "id": "kAKE81mEVd3p",
        "outputId": "5cfcc288-b386-4dce-d88d-87e08c03d5a1"
      },
      "execution_count": null,
      "outputs": [
        {
          "output_type": "execute_result",
          "data": {
            "text/plain": [
              "asin          0\n",
              "reviewText    0\n",
              "overall       0\n",
              "summary       0\n",
              "dtype: int64"
            ]
          },
          "metadata": {},
          "execution_count": 9
        }
      ]
    },
    {
      "cell_type": "code",
      "source": [
        "df.duplicated().sum()"
      ],
      "metadata": {
        "colab": {
          "base_uri": "https://localhost:8080/"
        },
        "id": "VZUaH7oHWKcJ",
        "outputId": "3bf6c4c5-d49d-48b1-e7ba-f10ac5b2d834"
      },
      "execution_count": null,
      "outputs": [
        {
          "output_type": "execute_result",
          "data": {
            "text/plain": [
              "1"
            ]
          },
          "metadata": {},
          "execution_count": 11
        }
      ]
    },
    {
      "cell_type": "code",
      "source": [
        "df = df.drop_duplicates().reset_index(drop=True)"
      ],
      "metadata": {
        "id": "VhEVVxKbWOIS"
      },
      "execution_count": null,
      "outputs": []
    },
    {
      "cell_type": "code",
      "source": [
        "df.info()"
      ],
      "metadata": {
        "colab": {
          "base_uri": "https://localhost:8080/"
        },
        "id": "W-SWGDTNW-Rc",
        "outputId": "ed7cb1c1-e95c-4c7f-cc60-ac5069eb1af6"
      },
      "execution_count": null,
      "outputs": [
        {
          "output_type": "stream",
          "name": "stdout",
          "text": [
            "<class 'pandas.core.frame.DataFrame'>\n",
            "RangeIndex: 349695 entries, 0 to 349694\n",
            "Data columns (total 4 columns):\n",
            " #   Column      Non-Null Count   Dtype  \n",
            "---  ------      --------------   -----  \n",
            " 0   asin        349695 non-null  object \n",
            " 1   reviewText  349695 non-null  object \n",
            " 2   overall     349695 non-null  float64\n",
            " 3   summary     349695 non-null  object \n",
            "dtypes: float64(1), object(3)\n",
            "memory usage: 10.7+ MB\n"
          ]
        }
      ]
    },
    {
      "cell_type": "code",
      "source": [
        "df.to_csv('/content/drive/MyDrive/section4_data.csv')"
      ],
      "metadata": {
        "id": "___62mGnYnip"
      },
      "execution_count": null,
      "outputs": []
    }
  ]
}